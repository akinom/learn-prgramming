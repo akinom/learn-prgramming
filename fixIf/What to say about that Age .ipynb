{
 "cells": [
  {
   "cell_type": "markdown",
   "metadata": {},
   "source": [
    "# Depending on age print approriate response"
   ]
  },
  {
   "cell_type": "markdown",
   "metadata": {},
   "source": [
    "## The Task ## \n",
    "Print resposne depending on age; respond differently for an age lower than 10, lower than 100, abiove 100, and above 2000.\n",
    "\n",
    "\n",
    "### The code below has all sorts of problems ###\n"
   ]
  },
  {
   "cell_type": "code",
   "execution_count": null,
   "metadata": {},
   "outputs": [],
   "source": [
    "age_str = input('How old are you ? ')\n",
    "age = int(age_str)\n",
    "\n",
    "if (age < 10):\n",
    "    print(\"Hey kiddo\")\n",
    "elif age > 100:\n",
    "    print(\"You are really old\")\n",
    "elif age > 2000:\n",
    "    print(\"Are you a mummy?\")\n",
    "elif (age < 100):\n",
    "    print(\"You have reached maturity\")"
   ]
  },
  {
   "cell_type": "markdown",
   "metadata": {},
   "source": [
    "### Simplify Testing ###\n",
    "\n",
    "Instead of testing this manually for several values you can define a python function and call it several times with a different value for age. "
   ]
  },
  {
   "cell_type": "code",
   "execution_count": 51,
   "metadata": {},
   "outputs": [],
   "source": [
    "def age_appropiate_response(age): \n",
    "    if (age < 10):\n",
    "        print(\"Hey kiddo\")\n",
    "    elif age > 100:\n",
    "        print(\"You are really old\")\n",
    "    elif age > 2000:\n",
    "        print(\"Are you a mummy?\")\n",
    "    elif (age < 100):\n",
    "        print(\"You have reached maturity\")"
   ]
  },
  {
   "cell_type": "markdown",
   "metadata": {},
   "source": [
    "Think of this method as a recipe that you can apply to any age like you see below"
   ]
  },
  {
   "cell_type": "code",
   "execution_count": 52,
   "metadata": {},
   "outputs": [
    {
     "name": "stdout",
     "output_type": "stream",
     "text": [
      "Age: 9\n",
      "Hey kiddo\n",
      "Age: 50\n",
      "You have reached maturity\n"
     ]
    }
   ],
   "source": [
    "test_age = 9 \n",
    "print(\"Age: \" + str(test_age))\n",
    "age_appropiate_response(test_age)    \n",
    "# this now execured the age_appropiate_response method with tst_age (9) assigned top age\n",
    "\n",
    "test_age = 50 \n",
    "print(\"Age: \" + str(test_age))\n",
    "age_appropiate_response(test_age)    \n",
    "# this now execured the age_appropiate_response method with tst_age (100) assigned top age"
   ]
  },
  {
   "cell_type": "markdown",
   "metadata": {},
   "source": [
    "Instead of repeating the same statements for different age values, lets define a list of interesting age values and use a for loop to perform the statements for each of the values in the list:"
   ]
  },
  {
   "cell_type": "code",
   "execution_count": 53,
   "metadata": {},
   "outputs": [
    {
     "name": "stdout",
     "output_type": "stream",
     "text": [
      "Age: 1\n",
      "Hey kiddo\n",
      "Age: 10\n",
      "You have reached maturity\n",
      "Age: 11\n",
      "You have reached maturity\n",
      "Age: 50\n",
      "You have reached maturity\n",
      "Age: 99\n",
      "You have reached maturity\n",
      "Age: 100\n",
      "Age: 101\n",
      "You are really old\n",
      "Age: 2000\n",
      "You are really old\n",
      "Age: 2001\n",
      "You are really old\n"
     ]
    }
   ],
   "source": [
    "for test_age in [1, 10, 11, 50, 99, 100, 101, 2000, 2001]: \n",
    "    print(\"Age: \" + str(test_age))\n",
    "    age_appropiate_response(test_age)    "
   ]
  },
  {
   "cell_type": "markdown",
   "metadata": {},
   "source": [
    "This is not what should happen. Nothing is printed for the age of 100, the test (age > 2000) is never triggered since any number greater 2000 is also bigger than 100. \n",
    "\n",
    "### Fix the  code ###"
   ]
  },
  {
   "cell_type": "code",
   "execution_count": 54,
   "metadata": {},
   "outputs": [
    {
     "name": "stdout",
     "output_type": "stream",
     "text": [
      "Age: 1\n",
      "Hey kiddo\n",
      "Age: 10\n",
      "You have reached maturity\n",
      "Age: 11\n",
      "You have reached maturity\n",
      "Age: 50\n",
      "You have reached maturity\n",
      "Age: 99\n",
      "You have reached maturity\n",
      "Age: 100\n",
      "You have reached maturity\n",
      "Age: 101\n",
      "You have reached maturity\n",
      "Age: 2000\n",
      "You have reached maturity\n",
      "Age: 2001\n",
      "Are you a mummy?\n"
     ]
    }
   ],
   "source": [
    "def age_appropiate_response(age): \n",
    "    if (age < 10):\n",
    "        print(\"Hey kiddo\")\n",
    "    elif age < 100:\n",
    "        print(\"You have reached maturity\")\n",
    "    elif age > 2000:\n",
    "        print(\"Are you a mummy?\")\n",
    "    elif (age >= 100):\n",
    "        print(\"You have reached maturity\")\n",
    "        \n",
    "for test_age in [1, 10, 11, 50, 99, 100, 101, 2000, 2001]: \n",
    "    print(\"Age: \" + str(test_age))\n",
    "    age_appropiate_response(test_age)"
   ]
  },
  {
   "cell_type": "markdown",
   "metadata": {},
   "source": [
    "### Make it more readable ###\n",
    "\n",
    "This is correct code now, but it is not easy to understand. Here a more readable version: "
   ]
  },
  {
   "cell_type": "code",
   "execution_count": 49,
   "metadata": {},
   "outputs": [],
   "source": [
    "def age_appropiate_response(age): \n",
    "    if (age < 10):\n",
    "        print(\"Hey kiddo\")\n",
    "    elif age < 100:\n",
    "        print(\"You have reached maturity\")\n",
    "    elif age <= 2000:\n",
    "        print(\"You have reached maturity\")\n",
    "    else: \n",
    "        print(\"Are you a mummy?\")"
   ]
  }
 ],
 "metadata": {
  "celltoolbar": "Raw Cell Format",
  "kernelspec": {
   "display_name": "Python 3",
   "language": "python",
   "name": "python3"
  },
  "language_info": {
   "codemirror_mode": {
    "name": "ipython",
    "version": 3
   },
   "file_extension": ".py",
   "mimetype": "text/x-python",
   "name": "python",
   "nbconvert_exporter": "python",
   "pygments_lexer": "ipython3",
   "version": "3.6.5"
  }
 },
 "nbformat": 4,
 "nbformat_minor": 2
}
